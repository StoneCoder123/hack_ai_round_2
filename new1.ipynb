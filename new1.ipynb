{
 "cells": [
  {
   "cell_type": "code",
   "execution_count": 7,
   "metadata": {},
   "outputs": [],
   "source": [
    "from PyPDF2 import PdfReader\n",
    "import pdfplumber"
   ]
  },
  {
   "cell_type": "code",
   "execution_count": 8,
   "metadata": {},
   "outputs": [
    {
     "name": "stdout",
     "output_type": "stream",
     "text": [
      "MICHELLE \n",
      "LOPEZ\n",
      "FASHION DESIGNER\n",
      "Expert Fashion Designer with 11+ years’ \n",
      "experience in women’s high-end shoes. \n",
      "Launched product lines for Chanel and Gucci. \n",
      "Designs showcased in Elle and Vogue. Attained \n",
      "recognition of top seller fashionista in 2017.(541) 754-3010\n",
      "EMAIL@\n",
      "EMAIL.COM\n",
      "EMPLOYMENT HISTORY\n",
      "Senior Fashion Designer  at Escada, \n",
      "MilanJan 2017 — Jul 2021\n",
      "Functioned as the lead designer for the 2019 women’s winter \n",
      "collection team and supervised seasonal conceptualization and \n",
      "design of women’s accessories, which included belts and bags.\n",
      "Designed attractive fashion items that coincided with the \n",
      "brand’s look.\n",
      "Ran the whole product design process, from primary market \n",
      "research, mood board development to sketching and design to \n",
      "producing the finished product.\n",
      "Contributed to the conceptual development of directional \n",
      "product lines, which included delivering original concept \n",
      "pitches.\n",
      "Supervised technical designs of all products from concept \n",
      "design to manufacturing, including trim and fabric selection, \n",
      "meeting and choosing from vendors, etc.\n",
      "Associate Fashion Designer at Dior \n",
      "Homme, New YorkJan 2014 — Dec 2018\n",
      "Produced commercial designs are reflecting the abstract direction \n",
      "and business strategy of the company.\n",
      "Created seasonal products which focused on style, fabric, and \n",
      "fit.SKILLS\n",
      "Adobe Illustrator Expert\n",
      "Fashion Design Expert\n",
      "Hand Drafting Expert\n",
      "Design Patterns Expert\n",
      "Fabric Expert\n",
      "LANGUAGES\n",
      "English Native speaker\n",
      "Italian Native speaker\n"
     ]
    }
   ],
   "source": [
    "reader = PdfReader(\"Cape-Town-Resume-Template-Retro-Creative.pdf\")\n",
    "page = reader.pages[0]\n",
    "transcript  = page.extract_text()\n",
    "print(transcript)"
   ]
  },
  {
   "cell_type": "code",
   "execution_count": null,
   "metadata": {},
   "outputs": [],
   "source": []
  }
 ],
 "metadata": {
  "kernelspec": {
   "display_name": "Python 3",
   "language": "python",
   "name": "python3"
  },
  "language_info": {
   "codemirror_mode": {
    "name": "ipython",
    "version": 3
   },
   "file_extension": ".py",
   "mimetype": "text/x-python",
   "name": "python",
   "nbconvert_exporter": "python",
   "pygments_lexer": "ipython3",
   "version": "3.11.4"
  }
 },
 "nbformat": 4,
 "nbformat_minor": 2
}
